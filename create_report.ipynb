{
 "cells": [
  {
   "attachments": {},
   "cell_type": "markdown",
   "id": "ab2e797d",
   "metadata": {
    "azdata_cell_guid": "d2b031ab-909a-4208-843d-7a15d1a26f72",
    "language": "python",
    "papermill": {
     "duration": 0.004815,
     "end_time": "2023-11-21T19:46:30.470915",
     "exception": false,
     "start_time": "2023-11-21T19:46:30.466100",
     "status": "completed"
    },
    "tags": []
   },
   "source": [
    "# US Institutions Financial Report"
   ]
  },
  {
   "cell_type": "code",
   "execution_count": 2,
   "id": "ccbef6fa",
   "metadata": {
    "azdata_cell_guid": "d2909afc-98aa-4542-865a-6a9ca4322586",
    "execution": {
     "iopub.execute_input": "2023-11-21T19:46:30.480796Z",
     "iopub.status.busy": "2023-11-21T19:46:30.480263Z",
     "iopub.status.idle": "2023-11-21T19:46:31.025523Z",
     "shell.execute_reply": "2023-11-21T19:46:31.025210Z"
    },
    "language": "python",
    "papermill": {
     "duration": 0.552529,
     "end_time": "2023-11-21T19:46:31.026522",
     "exception": false,
     "start_time": "2023-11-21T19:46:30.473993",
     "status": "completed"
    },
    "tags": []
   },
   "outputs": [],
   "source": [
    "# May need to install pandas directly in the Jupyter notebook with the following commands\n",
    "#! pip3 install --user pandas\n",
    "#! pip3 install --user psycopg\n",
    "import pandas as pd\n",
    "import psycopg\n",
    "import matplotlib as plt\n",
    "from credentials import DBNAME, HOST, USERNAME, PASSWORD"
   ]
  },
  {
   "cell_type": "code",
   "execution_count": 3,
   "id": "edda049c",
   "metadata": {
    "execution": {
     "iopub.execute_input": "2023-11-21T19:46:31.028555Z",
     "iopub.status.busy": "2023-11-21T19:46:31.028429Z",
     "iopub.status.idle": "2023-11-21T19:46:31.029988Z",
     "shell.execute_reply": "2023-11-21T19:46:31.029794Z"
    },
    "papermill": {
     "duration": 0.003428,
     "end_time": "2023-11-21T19:46:31.030781",
     "exception": false,
     "start_time": "2023-11-21T19:46:31.027353",
     "status": "completed"
    },
    "tags": [
     "injected-parameters"
    ]
   },
   "outputs": [],
   "source": [
    "# Parameters\n",
    "YEAR = 2020\n"
   ]
  },
  {
   "cell_type": "code",
   "execution_count": 10,
   "id": "5f72e136",
   "metadata": {
    "azdata_cell_guid": "a2ac0026-c78e-4fe9-af9e-6e620fdda0ea",
    "execution": {
     "iopub.execute_input": "2023-11-21T19:46:31.032481Z",
     "iopub.status.busy": "2023-11-21T19:46:31.032384Z",
     "iopub.status.idle": "2023-11-21T19:46:35.815130Z",
     "shell.execute_reply": "2023-11-21T19:46:35.814820Z"
    },
    "language": "python",
    "papermill": {
     "duration": 4.784724,
     "end_time": "2023-11-21T19:46:35.816146",
     "exception": false,
     "start_time": "2023-11-21T19:46:31.031422",
     "status": "completed"
    },
    "tags": []
   },
   "outputs": [
    {
     "ename": "OperationalError",
     "evalue": "connection is bad: nodename nor servname provided, or not known",
     "output_type": "error",
     "traceback": [
      "\u001b[0;31m---------------------------------------------------------------------------\u001b[0m",
      "\u001b[0;31mOperationalError\u001b[0m                          Traceback (most recent call last)",
      "\u001b[1;32m/Users/Elizabeth/650statcomputing/teamHoward/create_report.ipynb Cell 4\u001b[0m line \u001b[0;36m4\n\u001b[1;32m      <a href='vscode-notebook-cell:/Users/Elizabeth/650statcomputing/teamHoward/create_report.ipynb#W3sZmlsZQ%3D%3D?line=0'>1</a>\u001b[0m \u001b[39m# Set the connection and grab the data from SQL\u001b[39;00m\n\u001b[1;32m      <a href='vscode-notebook-cell:/Users/Elizabeth/650statcomputing/teamHoward/create_report.ipynb#W3sZmlsZQ%3D%3D?line=1'>2</a>\u001b[0m \n\u001b[1;32m      <a href='vscode-notebook-cell:/Users/Elizabeth/650statcomputing/teamHoward/create_report.ipynb#W3sZmlsZQ%3D%3D?line=2'>3</a>\u001b[0m \u001b[39m# Connect to the database using parameters from credentials.py\u001b[39;00m\n\u001b[0;32m----> <a href='vscode-notebook-cell:/Users/Elizabeth/650statcomputing/teamHoward/create_report.ipynb#W3sZmlsZQ%3D%3D?line=3'>4</a>\u001b[0m conn \u001b[39m=\u001b[39m psycopg\u001b[39m.\u001b[39mconnect(\n\u001b[1;32m      <a href='vscode-notebook-cell:/Users/Elizabeth/650statcomputing/teamHoward/create_report.ipynb#W3sZmlsZQ%3D%3D?line=4'>5</a>\u001b[0m     dbname\u001b[39m=\u001b[39mDBNAME,\n\u001b[1;32m      <a href='vscode-notebook-cell:/Users/Elizabeth/650statcomputing/teamHoward/create_report.ipynb#W3sZmlsZQ%3D%3D?line=5'>6</a>\u001b[0m     host\u001b[39m=\u001b[39mHOST,\n\u001b[1;32m      <a href='vscode-notebook-cell:/Users/Elizabeth/650statcomputing/teamHoward/create_report.ipynb#W3sZmlsZQ%3D%3D?line=6'>7</a>\u001b[0m     user\u001b[39m=\u001b[39mUSERNAME,\n\u001b[1;32m      <a href='vscode-notebook-cell:/Users/Elizabeth/650statcomputing/teamHoward/create_report.ipynb#W3sZmlsZQ%3D%3D?line=7'>8</a>\u001b[0m     password\u001b[39m=\u001b[39mPASSWORD)\n\u001b[1;32m     <a href='vscode-notebook-cell:/Users/Elizabeth/650statcomputing/teamHoward/create_report.ipynb#W3sZmlsZQ%3D%3D?line=9'>10</a>\u001b[0m \u001b[39m# Create a cursor and use it to submit/execute a query:\u001b[39;00m\n\u001b[1;32m     <a href='vscode-notebook-cell:/Users/Elizabeth/650statcomputing/teamHoward/create_report.ipynb#W3sZmlsZQ%3D%3D?line=10'>11</a>\u001b[0m cur \u001b[39m=\u001b[39m conn\u001b[39m.\u001b[39mcursor()\n",
      "File \u001b[0;32m~/anaconda3/lib/python3.11/site-packages/psycopg/connection.py:738\u001b[0m, in \u001b[0;36mConnection.connect\u001b[0;34m(cls, conninfo, autocommit, prepare_threshold, row_factory, cursor_factory, context, **kwargs)\u001b[0m\n\u001b[1;32m    733\u001b[0m     rv \u001b[39m=\u001b[39m \u001b[39mcls\u001b[39m\u001b[39m.\u001b[39m_wait_conn(\n\u001b[1;32m    734\u001b[0m         \u001b[39mcls\u001b[39m\u001b[39m.\u001b[39m_connect_gen(conninfo, autocommit\u001b[39m=\u001b[39mautocommit),\n\u001b[1;32m    735\u001b[0m         timeout\u001b[39m=\u001b[39mparams[\u001b[39m\"\u001b[39m\u001b[39mconnect_timeout\u001b[39m\u001b[39m\"\u001b[39m],\n\u001b[1;32m    736\u001b[0m     )\n\u001b[1;32m    737\u001b[0m \u001b[39mexcept\u001b[39;00m e\u001b[39m.\u001b[39m_NO_TRACEBACK \u001b[39mas\u001b[39;00m ex:\n\u001b[0;32m--> 738\u001b[0m     \u001b[39mraise\u001b[39;00m ex\u001b[39m.\u001b[39mwith_traceback(\u001b[39mNone\u001b[39;00m)\n\u001b[1;32m    740\u001b[0m \u001b[39mif\u001b[39;00m row_factory:\n\u001b[1;32m    741\u001b[0m     rv\u001b[39m.\u001b[39mrow_factory \u001b[39m=\u001b[39m row_factory\n",
      "\u001b[0;31mOperationalError\u001b[0m: connection is bad: nodename nor servname provided, or not known"
     ]
    }
   ],
   "source": [
    "# Set the connection and grab the data from SQL\n",
    "\n",
    "# Connect to the database using parameters from credentials.py\n",
    "conn = psycopg.connect(\n",
    "    dbname=DBNAME,\n",
    "    host=HOST,\n",
    "    user=USERNAME,\n",
    "    password=PASSWORD)\n",
    "\n",
    "# Create a cursor and use it to submit/execute a query:\n",
    "cur = conn.cursor()\n",
    "\n",
    "select_cmd = \"\"\"\n",
    "    SELECT * FROM institutions \n",
    "    WHERE extracted_year <= to_date(%s::text ,'YYYY-MM-DD');\n",
    "\"\"\"\n",
    "\n",
    "# Save to a dataframe\n",
    "df = pd.DataFrame(cur.execute(select_cmd, (YEAR,)))\n",
    "\n",
    "# Close the connection\n",
    "cur.close()\n",
    "conn.close()"
   ]
  },
  {
   "cell_type": "markdown",
   "metadata": {},
   "source": [
    "# Data Summary"
   ]
  },
  {
   "cell_type": "code",
   "execution_count": null,
   "metadata": {},
   "outputs": [],
   "source": []
  },
  {
   "cell_type": "markdown",
   "metadata": {},
   "source": [
    "# Summary of Current College Tuition Rates"
   ]
  },
  {
   "cell_type": "code",
   "execution_count": null,
   "metadata": {},
   "outputs": [],
   "source": []
  },
  {
   "cell_type": "markdown",
   "metadata": {},
   "source": [
    "# Best and Worst Performing Institutions by Loan-Repayment Rates"
   ]
  },
  {
   "cell_type": "code",
   "execution_count": null,
   "metadata": {},
   "outputs": [],
   "source": [
    "# Sort the DataFrame by loan repayment rates in ascending order\n",
    "df_sorted = df.sort_values(by='three_yr_default')\n",
    "\n",
    "# Extract the top 10 and bottom 10 institutions\n",
    "best_performing = df_sorted.head(10)\n",
    "worst_performing = df_sorted.tail(10)\n",
    "\n",
    "print(best_performing)\n",
    "print(worst_performing)"
   ]
  },
  {
   "cell_type": "code",
   "execution_count": null,
   "metadata": {},
   "outputs": [],
   "source": [
    "# Can export to a PDF if desired\n",
    "best_performing[['name', 'three_yr_default']].to_csv('best_performing_institutions.csv', index=False)\n",
    "worst_performing[['name', 'three_yr_default']].to_csv('worst_performing_institutions.csv', index=False)"
   ]
  },
  {
   "cell_type": "markdown",
   "metadata": {},
   "source": [
    "# Tuition and Loan Repayment Rates over Time"
   ]
  },
  {
   "cell_type": "markdown",
   "metadata": {},
   "source": [
    "How have tuition rates and loan repayment rates changed over time for the top 10 most expensive universities in the U.S.?\n",
    "We will explore this by first finding the top 10 most expensive schools."
   ]
  },
  {
   "cell_type": "code",
   "execution_count": null,
   "metadata": {},
   "outputs": [],
   "source": [
    "# First find the top 10 most expensive schools\n",
    "# Find most expensive out of:\n",
    "# (in_state_tuit + out_state_tuit)/2, or the average tuition cost\n",
    "\n",
    "df['avg_tuition'] = (df['in_state_tuit'] + df['out_state_tuit']) / 2\n",
    "\n",
    "df_sorted = df.sort_values(by='avg_tuition', ascending=False)\n",
    "\n",
    "top_10 = df_sorted.head(10)"
   ]
  },
  {
   "cell_type": "markdown",
   "metadata": {},
   "source": [
    "Next, graph these schools based on their tuition and loan repayment rates."
   ]
  },
  {
   "cell_type": "code",
   "execution_count": null,
   "metadata": {},
   "outputs": [],
   "source": [
    "plt.figure(figsize=(10, 6))\n",
    "plt.scatter(top_10['avg_tuition'], top_10['three_yr_default'], color='blue')\n",
    "plt.title('Top 10 Most Expensive Universities - Tuition vs. Three-Year Default Rate')\n",
    "plt.xlabel('Average Tuition')\n",
    "plt.ylabel('Three-Year Default Rate')\n",
    "plt.show()"
   ]
  },
  {
   "cell_type": "markdown",
   "metadata": {},
   "source": [
    "# Relationship between average tuition and revenue tuition and SAT score"
   ]
  },
  {
   "cell_type": "markdown",
   "metadata": {},
   "source": [
    "Are “smarter” colleges more expensive? Below, we have plots of the average tuition vs. SAT score as well as the revenue tuition vs. SAT score."
   ]
  },
  {
   "cell_type": "code",
   "execution_count": null,
   "metadata": {},
   "outputs": [],
   "source": [
    "plt.figure(figsize=(10, 6))\n",
    "plt.scatter(df['sat_avg'], df['avg_tuition'], color='red')\n",
    "plt.title('Average Tuition vs. SAT scores')\n",
    "plt.xlabel('SAT score')\n",
    "plt.ylabel('Average tuition')\n",
    "plt.show()"
   ]
  },
  {
   "cell_type": "code",
   "execution_count": null,
   "metadata": {},
   "outputs": [],
   "source": [
    "plt.figure(figsize=(10, 6))\n",
    "plt.scatter(df['sat_avg'], df['revenue_tuit'], color='red')\n",
    "plt.title('Revenue Tuition vs. SAT scores')\n",
    "plt.xlabel('SAT score')\n",
    "plt.ylabel('Revenue tuition')\n",
    "plt.show()"
   ]
  },
  {
   "cell_type": "markdown",
   "metadata": {},
   "source": [
    "# SAT Scores and College Admission Rate"
   ]
  },
  {
   "cell_type": "code",
   "execution_count": null,
   "metadata": {},
   "outputs": [],
   "source": []
  },
  {
   "cell_type": "markdown",
   "metadata": {},
   "source": [
    "# Faculty Salary and Revenue Tuition"
   ]
  },
  {
   "cell_type": "code",
   "execution_count": null,
   "metadata": {},
   "outputs": [],
   "source": []
  }
 ],
 "metadata": {
  "kernelspec": {
   "display_name": "Python 3",
   "language": "python",
   "name": "python3"
  },
  "language_info": {
   "codemirror_mode": {
    "name": "ipython",
    "version": 3
   },
   "file_extension": ".py",
   "mimetype": "text/x-python",
   "name": "python",
   "nbconvert_exporter": "python",
   "pygments_lexer": "ipython3",
   "version": "3.11.4"
  },
  "papermill": {
   "default_parameters": {},
   "duration": 6.549946,
   "end_time": "2023-11-21T19:46:36.040043",
   "environment_variables": {},
   "exception": null,
   "input_path": "create_report.ipynb",
   "output_path": "create_report.ipynb",
   "parameters": {
    "YEAR": 2020
   },
   "start_time": "2023-11-21T19:46:29.490097",
   "version": "2.5.0"
  }
 },
 "nbformat": 4,
 "nbformat_minor": 5
}
