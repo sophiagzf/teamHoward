{
 "cells": [
  {
   "attachments": {},
   "cell_type": "markdown",
   "id": "ab2e797d",
   "metadata": {
    "azdata_cell_guid": "d2b031ab-909a-4208-843d-7a15d1a26f72",
    "language": "python",
    "papermill": {
     "duration": 0.003577,
     "end_time": "2023-11-21T18:45:49.492457",
     "exception": false,
     "start_time": "2023-11-21T18:45:49.488880",
     "status": "completed"
    },
    "tags": []
   },
   "source": [
    "# US Institutions Financial Report"
   ]
  },
  {
   "cell_type": "code",
   "execution_count": 3,
   "id": "ccbef6fa",
   "metadata": {
    "azdata_cell_guid": "d2909afc-98aa-4542-865a-6a9ca4322586",
    "execution": {
     "iopub.execute_input": "2023-11-21T18:45:49.499946Z",
     "iopub.status.busy": "2023-11-21T18:45:49.499498Z",
     "iopub.status.idle": "2023-11-21T18:45:50.067934Z",
     "shell.execute_reply": "2023-11-21T18:45:50.067685Z"
    },
    "language": "python",
    "papermill": {
     "duration": 0.573625,
     "end_time": "2023-11-21T18:45:50.068945",
     "exception": false,
     "start_time": "2023-11-21T18:45:49.495320",
     "status": "completed"
    },
    "tags": []
   },
   "outputs": [],
   "source": [
    "# May need to install pandas directly in the Jupyter notebook with the following command\n",
    "#! pip3 install --user pandas\n",
    "#! pip3 install --user psycopg\n",
    "import pandas as pd\n",
    "import psycopg\n",
    "import papermill\n",
    "import nbconvert\n",
    "from credentials import DBNAME, HOST, USERNAME, PASSWORD"
   ]
  },
  {
   "cell_type": "code",
   "execution_count": 7,
   "id": "6db953ce",
   "metadata": {
    "execution": {
     "iopub.execute_input": "2023-11-21T18:45:50.070996Z",
     "iopub.status.busy": "2023-11-21T18:45:50.070751Z",
     "iopub.status.idle": "2023-11-21T18:45:50.072413Z",
     "shell.execute_reply": "2023-11-21T18:45:50.072214Z"
    },
    "papermill": {
     "duration": 0.003452,
     "end_time": "2023-11-21T18:45:50.073196",
     "exception": false,
     "start_time": "2023-11-21T18:45:50.069744",
     "status": "completed"
    },
    "tags": [
     "injected-parameters"
    ]
   },
   "outputs": [],
   "source": [
    "# Parameters\n",
    "YEAR = 2020\n"
   ]
  },
  {
   "cell_type": "code",
   "execution_count": 16,
   "id": "5f72e136",
   "metadata": {
    "azdata_cell_guid": "a2ac0026-c78e-4fe9-af9e-6e620fdda0ea",
    "execution": {
     "iopub.execute_input": "2023-11-21T18:45:50.074751Z",
     "iopub.status.busy": "2023-11-21T18:45:50.074665Z",
     "iopub.status.idle": "2023-11-21T18:45:50.268537Z",
     "shell.execute_reply": "2023-11-21T18:45:50.268132Z"
    },
    "language": "python",
    "papermill": {
     "duration": 0.195959,
     "end_time": "2023-11-21T18:45:50.269774",
     "exception": false,
     "start_time": "2023-11-21T18:45:50.073815",
     "status": "completed"
    },
    "tags": []
   },
   "outputs": [],
   "source": [
    "# Set the connection and grab the data from SQL\n",
    "\n",
    "# Connect to the database using parameters from credentials.py\n",
    "conn = psycopg.connect(\n",
    "    dbname=DBNAME,\n",
    "    host=HOST,\n",
    "    user=USERNAME,\n",
    "    password=PASSWORD)\n",
    "\n",
    "# Create a cursor and use it to submit/execute a query:\n",
    "cur = conn.cursor()\n",
    "\n",
    "select_cmd = \"\"\"\n",
    "    SELECT * FROM institutions \n",
    "    WHERE extracted_year <= to_date(%s::text ,'YYYY-MM-DD');\n",
    "\"\"\"\n",
    "\n",
    "# Save to a dataframe\n",
    "df = pd.DataFrame(cur.execute(select_cmd, (YEAR,)))\n",
    "\n",
    "# Close the connection\n",
    "cur.close()\n",
    "conn.close()"
   ]
  },
  {
   "cell_type": "code",
   "execution_count": 17,
   "metadata": {},
   "outputs": [
    {
     "data": {
      "text/plain": [
       "(13635, 29)"
      ]
     },
     "execution_count": 17,
     "metadata": {},
     "output_type": "execute_result"
    }
   ],
   "source": [
    "df.shape"
   ]
  }
 ],
 "metadata": {
  "kernelspec": {
   "display_name": "Python 3",
   "language": "python",
   "name": "python3"
  },
  "language_info": {
   "codemirror_mode": {
    "name": "ipython",
    "version": 3
   },
   "file_extension": ".py",
   "mimetype": "text/x-python",
   "name": "python",
   "nbconvert_exporter": "python",
   "pygments_lexer": "ipython3",
   "version": "3.11.6"
  },
  "papermill": {
   "default_parameters": {},
   "duration": 1.936061,
   "end_time": "2023-11-21T18:45:50.487265",
   "environment_variables": {},
   "exception": null,
   "input_path": "create_report.ipynb",
   "output_path": "create_report.ipynb",
   "parameters": {
    "YEAR": 2019
   },
   "start_time": "2023-11-21T18:45:48.551204",
   "version": "2.5.0"
  }
 },
 "nbformat": 4,
 "nbformat_minor": 5
}
