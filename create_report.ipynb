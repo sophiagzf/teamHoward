{
 "cells": [
  {
   "attachments": {},
   "cell_type": "markdown",
   "id": "ab2e797d",
   "metadata": {
    "azdata_cell_guid": "d2b031ab-909a-4208-843d-7a15d1a26f72",
    "language": "python",
    "papermill": {
     "duration": 0.004815,
     "end_time": "2023-11-21T19:46:30.470915",
     "exception": false,
     "start_time": "2023-11-21T19:46:30.466100",
     "status": "completed"
    },
    "tags": []
   },
   "source": [
    "# US Institutions Financial Report"
   ]
  },
  {
   "cell_type": "code",
   "execution_count": 18,
   "id": "ccbef6fa",
   "metadata": {
    "azdata_cell_guid": "d2909afc-98aa-4542-865a-6a9ca4322586",
    "execution": {
     "iopub.execute_input": "2023-11-21T19:46:30.480796Z",
     "iopub.status.busy": "2023-11-21T19:46:30.480263Z",
     "iopub.status.idle": "2023-11-21T19:46:31.025523Z",
     "shell.execute_reply": "2023-11-21T19:46:31.025210Z"
    },
    "language": "python",
    "papermill": {
     "duration": 0.552529,
     "end_time": "2023-11-21T19:46:31.026522",
     "exception": false,
     "start_time": "2023-11-21T19:46:30.473993",
     "status": "completed"
    },
    "tags": []
   },
   "outputs": [],
   "source": [
    "# May need to install pandas directly in the Jupyter notebook with the following commands\n",
    "#! pip3 install --user pandas\n",
    "#! pip3 install --user psycopg\n",
    "import pandas as pd\n",
    "import psycopg\n",
    "import matplotlib as plt\n",
    "from credentials import DBNAME, HOST, USERNAME, PASSWORD"
   ]
  },
  {
   "cell_type": "code",
   "execution_count": 2,
   "id": "edda049c",
   "metadata": {
    "execution": {
     "iopub.execute_input": "2023-11-21T19:46:31.028555Z",
     "iopub.status.busy": "2023-11-21T19:46:31.028429Z",
     "iopub.status.idle": "2023-11-21T19:46:31.029988Z",
     "shell.execute_reply": "2023-11-21T19:46:31.029794Z"
    },
    "papermill": {
     "duration": 0.003428,
     "end_time": "2023-11-21T19:46:31.030781",
     "exception": false,
     "start_time": "2023-11-21T19:46:31.027353",
     "status": "completed"
    },
    "tags": [
     "injected-parameters"
    ]
   },
   "outputs": [],
   "source": [
    "# Parameters\n",
    "YEAR = 2020\n"
   ]
  },
  {
   "cell_type": "code",
   "execution_count": 3,
   "id": "5f72e136",
   "metadata": {
    "azdata_cell_guid": "a2ac0026-c78e-4fe9-af9e-6e620fdda0ea",
    "execution": {
     "iopub.execute_input": "2023-11-21T19:46:31.032481Z",
     "iopub.status.busy": "2023-11-21T19:46:31.032384Z",
     "iopub.status.idle": "2023-11-21T19:46:35.815130Z",
     "shell.execute_reply": "2023-11-21T19:46:35.814820Z"
    },
    "language": "python",
    "papermill": {
     "duration": 4.784724,
     "end_time": "2023-11-21T19:46:35.816146",
     "exception": false,
     "start_time": "2023-11-21T19:46:31.031422",
     "status": "completed"
    },
    "tags": []
   },
   "outputs": [],
   "source": [
    "# Set the connection and grab the data from SQL\n",
    "\n",
    "# Connect to the database using parameters from credentials.py\n",
    "conn = psycopg.connect(\n",
    "    dbname=DBNAME,\n",
    "    host=HOST,\n",
    "    user=USERNAME,\n",
    "    password=PASSWORD)\n",
    "\n",
    "# Create a cursor and use it to submit/execute a query:\n",
    "cur = conn.cursor()\n",
    "\n",
    "select_cmd = \"\"\"\n",
    "    SELECT * FROM institutions \n",
    "    WHERE extracted_year <= to_date(%s::text ,'YYYY-MM-DD');\n",
    "\"\"\"\n",
    "\n",
    "# Save to a dataframe\n",
    "df = pd.DataFrame(cur.execute(select_cmd, (YEAR,)))\n",
    "\n",
    "# Close the connection\n",
    "cur.close()\n",
    "conn.close()"
   ]
  },
  {
   "cell_type": "markdown",
   "metadata": {},
   "source": [
    "# Data Summary"
   ]
  },
  {
   "cell_type": "code",
   "execution_count": null,
   "metadata": {},
   "outputs": [],
   "source": []
  },
  {
   "cell_type": "markdown",
   "metadata": {},
   "source": [
    "# Summary of Current College Tuition Rates"
   ]
  },
  {
   "cell_type": "code",
   "execution_count": null,
   "metadata": {},
   "outputs": [],
   "source": []
  },
  {
   "cell_type": "markdown",
   "metadata": {},
   "source": [
    "# Best and Worst Performing Institutions by Loan-Repayment Rates"
   ]
  },
  {
   "cell_type": "code",
   "execution_count": null,
   "metadata": {},
   "outputs": [],
   "source": []
  },
  {
   "cell_type": "markdown",
   "metadata": {},
   "source": [
    "# Tuition and Loan Repayment Rates over Time"
   ]
  },
  {
   "cell_type": "code",
   "execution_count": null,
   "metadata": {},
   "outputs": [],
   "source": []
  },
  {
   "cell_type": "markdown",
   "metadata": {},
   "source": [
    "# SAT Scores and College Admission Rate"
   ]
  },
  {
   "cell_type": "code",
   "execution_count": null,
   "metadata": {},
   "outputs": [],
   "source": []
  },
  {
   "cell_type": "markdown",
   "metadata": {},
   "source": [
    "# Faculty Salary and Revenue Tuition"
   ]
  }
 ],
 "metadata": {
  "kernelspec": {
   "display_name": "Python 3",
   "language": "python",
   "name": "python3"
  },
  "language_info": {
   "codemirror_mode": {
    "name": "ipython",
    "version": 3
   },
   "file_extension": ".py",
   "mimetype": "text/x-python",
   "name": "python",
   "nbconvert_exporter": "python",
   "pygments_lexer": "ipython3",
   "version": "3.11.6"
  },
  "papermill": {
   "default_parameters": {},
   "duration": 6.549946,
   "end_time": "2023-11-21T19:46:36.040043",
   "environment_variables": {},
   "exception": null,
   "input_path": "create_report.ipynb",
   "output_path": "create_report.ipynb",
   "parameters": {
    "YEAR": 2020
   },
   "start_time": "2023-11-21T19:46:29.490097",
   "version": "2.5.0"
  }
 },
 "nbformat": 4,
 "nbformat_minor": 5
}
