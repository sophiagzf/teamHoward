{
 "cells": [
  {
   "attachments": {},
   "cell_type": "markdown",
   "id": "ab2e797d",
   "metadata": {
    "azdata_cell_guid": "d2b031ab-909a-4208-843d-7a15d1a26f72",
    "language": "python",
    "papermill": {
     "duration": 0.004815,
     "end_time": "2023-11-21T19:46:30.470915",
     "exception": false,
     "start_time": "2023-11-21T19:46:30.466100",
     "status": "completed"
    },
    "tags": []
   },
   "source": [
    "# US Institutions Financial Report"
   ]
  },
  {
   "cell_type": "code",
   "execution_count": 18,
   "id": "ccbef6fa",
   "metadata": {
    "azdata_cell_guid": "d2909afc-98aa-4542-865a-6a9ca4322586",
    "execution": {
     "iopub.execute_input": "2023-11-21T19:46:30.480796Z",
     "iopub.status.busy": "2023-11-21T19:46:30.480263Z",
     "iopub.status.idle": "2023-11-21T19:46:31.025523Z",
     "shell.execute_reply": "2023-11-21T19:46:31.025210Z"
    },
    "language": "python",
    "papermill": {
     "duration": 0.552529,
     "end_time": "2023-11-21T19:46:31.026522",
     "exception": false,
     "start_time": "2023-11-21T19:46:30.473993",
     "status": "completed"
    },
    "tags": []
   },
   "outputs": [],
   "source": [
    "# May need to install pandas directly in the Jupyter notebook with the following commands\n",
    "#! pip3 install --user pandas\n",
    "#! pip3 install --user psycopg\n",
    "import pandas as pd\n",
    "import psycopg\n",
    "import matplotlib as plt\n",
    "from credentials import DBNAME, HOST, USERNAME, PASSWORD"
   ]
  },
  {
   "cell_type": "code",
   "execution_count": 2,
   "id": "edda049c",
   "metadata": {
    "execution": {
     "iopub.execute_input": "2023-11-21T19:46:31.028555Z",
     "iopub.status.busy": "2023-11-21T19:46:31.028429Z",
     "iopub.status.idle": "2023-11-21T19:46:31.029988Z",
     "shell.execute_reply": "2023-11-21T19:46:31.029794Z"
    },
    "papermill": {
     "duration": 0.003428,
     "end_time": "2023-11-21T19:46:31.030781",
     "exception": false,
     "start_time": "2023-11-21T19:46:31.027353",
     "status": "completed"
    },
    "tags": [
     "injected-parameters"
    ]
   },
   "outputs": [],
   "source": [
    "# Parameters\n",
    "YEAR = 2020\n"
   ]
  },
  {
   "cell_type": "code",
   "execution_count": 3,
   "id": "5f72e136",
   "metadata": {
    "azdata_cell_guid": "a2ac0026-c78e-4fe9-af9e-6e620fdda0ea",
    "execution": {
     "iopub.execute_input": "2023-11-21T19:46:31.032481Z",
     "iopub.status.busy": "2023-11-21T19:46:31.032384Z",
     "iopub.status.idle": "2023-11-21T19:46:35.815130Z",
     "shell.execute_reply": "2023-11-21T19:46:35.814820Z"
    },
    "language": "python",
    "papermill": {
     "duration": 4.784724,
     "end_time": "2023-11-21T19:46:35.816146",
     "exception": false,
     "start_time": "2023-11-21T19:46:31.031422",
     "status": "completed"
    },
    "tags": []
   },
   "outputs": [],
   "source": [
    "# Set the connection and grab the data from SQL\n",
    "\n",
    "# Connect to the database using parameters from credentials.py\n",
    "conn = psycopg.connect(\n",
    "    dbname=DBNAME,\n",
    "    host=HOST,\n",
    "    user=USERNAME,\n",
    "    password=PASSWORD)\n",
    "\n",
    "# Create a cursor and use it to submit/execute a query:\n",
    "cur = conn.cursor()\n",
    "\n",
    "select_cmd = \"\"\"\n",
    "    SELECT * FROM institutions \n",
    "    WHERE extracted_year <= to_date(%s::text ,'YYYY-MM-DD');\n",
    "\"\"\"\n",
    "\n",
    "# Save to a dataframe\n",
    "df = pd.DataFrame(cur.execute(select_cmd, (YEAR,)))\n",
    "\n",
    "# Close the connection\n",
    "cur.close()\n",
    "conn.close()"
   ]
  },
  {
   "cell_type": "markdown",
   "metadata": {},
   "source": [
    "# Data Summary"
   ]
  },
  {
   "cell_type": "code",
   "execution_count": null,
   "metadata": {},
   "outputs": [],
   "source": []
  },
  {
   "cell_type": "markdown",
   "metadata": {},
   "source": [
    "# Summary of Current College Tuition Rates"
   ]
  },
  {
   "cell_type": "code",
   "execution_count": null,
   "metadata": {},
   "outputs": [],
   "source": []
  },
  {
   "cell_type": "markdown",
   "metadata": {},
   "source": [
    "# Best and Worst Performing Institutions by Loan-Repayment Rates"
   ]
  },
  {
   "cell_type": "code",
   "execution_count": null,
   "metadata": {},
   "outputs": [],
   "source": []
  },
  {
   "cell_type": "markdown",
   "metadata": {},
   "source": [
    "# Tuition and Loan Repayment Rates over Time"
   ]
  },
  {
   "cell_type": "markdown",
   "metadata": {},
   "source": [
    "How have tuition rates and loan repayment rates changed over time for the top 10 most expensive universities in the U.S.?\n",
    "We will explore this by first finding the top 10 most expensive schools."
   ]
  },
  {
   "cell_type": "code",
   "execution_count": null,
   "metadata": {
    "vscode": {
     "languageId": "sql"
    }
   },
   "outputs": [],
   "source": [
    "-- First find the top 10 most expensive schools\n",
    "-- Find most expensive out of these variables:\n",
    "-- in_state_tuit, out_state_tuit, prog_year_tuit\n",
    "-- also select 3-year default (loan repayment rate) and the year\n",
    "SELECT name, in_state_tuit, out_state_tuit, prog_year_tuit, three_yr_default, extracted_year\n",
    "FROM institutions\n",
    "ORDER BY GREATEST(in_state_tuit, out_state_tuit, prog_year_tuit) DESC\n",
    "LIMIT 10;"
   ]
  },
  {
   "cell_type": "markdown",
   "metadata": {},
   "source": [
    "Next, graph these schools based on their tuition and loan repayment rates."
   ]
  },
  {
   "cell_type": "code",
   "execution_count": null,
   "metadata": {},
   "outputs": [],
   "source": [
    "# get results later\n",
    "results = pd.DataFrame({\n",
    "   'name': ['University A', 'University B', 'University C', ...],\n",
    "   'in_state_tuit': [10000, 12000, 15000, ...],\n",
    "   'out_state_tuit': [20000, 22000, 25000, ...],\n",
    "   'prog_year_tuit': [18000, 20000, 22000, ...],\n",
    "   'three_yr_default': [0.05, 0.03, 0.02, ...],\n",
    "   'extracted_year': ['2022-01-01', '2022-01-01', '2022-01-01', ...],\n",
    "})\n",
    "\n",
    "\n",
    "results['extracted_year'] = pd.to_datetime(results['extracted_year'])\n",
    "\n",
    "\n",
    "plt.figure(figsize=(10, 6))\n",
    "\n",
    "\n",
    "# Plot each university's tuition and loan repayment rate over time\n",
    "for index, row in results.iterrows():\n",
    "   plt.scatter(row['in_state_tuit'], row['three_yr_default'], label=row['name'])\n",
    "\n",
    "\n",
    "plt.title('Tuition vs. Loan Repayment Rate Over Time for Top 10 Most Expensive Universities')\n",
    "plt.xlabel('In-State Tuition')\n",
    "plt.ylabel('Three-Year Default Rate')\n",
    "plt.legend()\n",
    "plt.grid(True)\n",
    "\n",
    "\n",
    "plt.show()"
   ]
  },
  {
   "cell_type": "markdown",
   "metadata": {},
   "source": [
    "# SAT Scores and College Admission Rate"
   ]
  },
  {
   "cell_type": "code",
   "execution_count": null,
   "metadata": {},
   "outputs": [],
   "source": []
  },
  {
   "cell_type": "markdown",
   "metadata": {},
   "source": [
    "# Faculty Salary and Revenue Tuition"
   ]
  },
  {
   "cell_type": "code",
   "execution_count": null,
   "metadata": {},
   "outputs": [],
   "source": []
  }
 ],
 "metadata": {
  "kernelspec": {
   "display_name": "Python 3",
   "language": "python",
   "name": "python3"
  },
  "language_info": {
   "codemirror_mode": {
    "name": "ipython",
    "version": 3
   },
   "file_extension": ".py",
   "mimetype": "text/x-python",
   "name": "python",
   "nbconvert_exporter": "python",
   "pygments_lexer": "ipython3",
   "version": "3.11.6"
  },
  "papermill": {
   "default_parameters": {},
   "duration": 6.549946,
   "end_time": "2023-11-21T19:46:36.040043",
   "environment_variables": {},
   "exception": null,
   "input_path": "create_report.ipynb",
   "output_path": "create_report.ipynb",
   "parameters": {
    "YEAR": 2020
   },
   "start_time": "2023-11-21T19:46:29.490097",
   "version": "2.5.0"
  }
 },
 "nbformat": 4,
 "nbformat_minor": 5
}
