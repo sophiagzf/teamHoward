{
 "cells": [
  {
   "attachments": {},
   "cell_type": "markdown",
   "id": "8b8f7c7e",
   "metadata": {
    "azdata_cell_guid": "d2b031ab-909a-4208-843d-7a15d1a26f72",
    "language": "python",
    "papermill": {
     "duration": 0.002593,
     "end_time": "2023-11-21T18:09:30.987172",
     "exception": false,
     "start_time": "2023-11-21T18:09:30.984579",
     "status": "completed"
    },
    "tags": []
   },
   "source": [
    "# US Institutions Financial Report"
   ]
  },
  {
   "cell_type": "code",
   "execution_count": 1,
   "id": "e030394a",
   "metadata": {
    "azdata_cell_guid": "d2909afc-98aa-4542-865a-6a9ca4322586",
    "execution": {
     "iopub.execute_input": "2023-11-21T18:09:30.991509Z",
     "iopub.status.busy": "2023-11-21T18:09:30.991282Z",
     "iopub.status.idle": "2023-11-21T18:09:32.236142Z",
     "shell.execute_reply": "2023-11-21T18:09:32.235733Z"
    },
    "language": "python",
    "papermill": {
     "duration": 1.248257,
     "end_time": "2023-11-21T18:09:32.237180",
     "exception": false,
     "start_time": "2023-11-21T18:09:30.988923",
     "status": "completed"
    },
    "tags": []
   },
   "outputs": [
    {
     "name": "stdout",
     "output_type": "stream",
     "text": [
      "Requirement already satisfied: pandas in /Users/marionhaney/miniforge3/envs/36650/lib/python3.11/site-packages (2.1.1)\r\n",
      "Requirement already satisfied: numpy>=1.23.2 in /Users/marionhaney/miniforge3/envs/36650/lib/python3.11/site-packages (from pandas) (1.26.0)\r\n",
      "Requirement already satisfied: python-dateutil>=2.8.2 in /Users/marionhaney/miniforge3/envs/36650/lib/python3.11/site-packages (from pandas) (2.8.2)\r\n",
      "Requirement already satisfied: pytz>=2020.1 in /Users/marionhaney/miniforge3/envs/36650/lib/python3.11/site-packages (from pandas) (2023.3.post1)\r\n"
     ]
    },
    {
     "name": "stdout",
     "output_type": "stream",
     "text": [
      "Requirement already satisfied: tzdata>=2022.1 in /Users/marionhaney/miniforge3/envs/36650/lib/python3.11/site-packages (from pandas) (2023.3)\r\n",
      "Requirement already satisfied: six>=1.5 in /Users/marionhaney/miniforge3/envs/36650/lib/python3.11/site-packages (from python-dateutil>=2.8.2->pandas) (1.16.0)\r\n"
     ]
    }
   ],
   "source": [
    "# Need to install pandas directly in the Jupyter notebook with the following command\n",
    "! pip3 install --user pandas\n",
    "import pandas as pd\n",
    "import papermill\n",
    "import nbconvert"
   ]
  },
  {
   "cell_type": "code",
   "execution_count": 2,
   "id": "9a1535e6",
   "metadata": {
    "execution": {
     "iopub.execute_input": "2023-11-21T18:09:32.239151Z",
     "iopub.status.busy": "2023-11-21T18:09:32.239023Z",
     "iopub.status.idle": "2023-11-21T18:09:32.240516Z",
     "shell.execute_reply": "2023-11-21T18:09:32.240274Z"
    },
    "papermill": {
     "duration": 0.003347,
     "end_time": "2023-11-21T18:09:32.241370",
     "exception": false,
     "start_time": "2023-11-21T18:09:32.238023",
     "status": "completed"
    },
    "tags": [
     "injected-parameters"
    ]
   },
   "outputs": [],
   "source": [
    "# Parameters\n",
    "YEAR = 2020\n"
   ]
  },
  {
   "cell_type": "code",
   "execution_count": 3,
   "id": "3547f481",
   "metadata": {
    "azdata_cell_guid": "a2ac0026-c78e-4fe9-af9e-6e620fdda0ea",
    "execution": {
     "iopub.execute_input": "2023-11-21T18:09:32.243012Z",
     "iopub.status.busy": "2023-11-21T18:09:32.242924Z",
     "iopub.status.idle": "2023-11-21T18:09:32.244287Z",
     "shell.execute_reply": "2023-11-21T18:09:32.244090Z"
    },
    "language": "python",
    "papermill": {
     "duration": 0.002996,
     "end_time": "2023-11-21T18:09:32.245018",
     "exception": false,
     "start_time": "2023-11-21T18:09:32.242022",
     "status": "completed"
    },
    "tags": []
   },
   "outputs": [
    {
     "name": "stdout",
     "output_type": "stream",
     "text": [
      "2020\n"
     ]
    }
   ],
   "source": [
    "print(YEAR)\n"
   ]
  }
 ],
 "metadata": {
  "kernelspec": {
   "display_name": "Python 3",
   "language": "python",
   "name": "python3"
  },
  "language_info": {
   "codemirror_mode": {
    "name": "ipython",
    "version": 3
   },
   "file_extension": ".py",
   "mimetype": "text/x-python",
   "name": "python",
   "nbconvert_exporter": "python",
   "pygments_lexer": "ipython3",
   "version": "3.11.5"
  },
  "papermill": {
   "default_parameters": {},
   "duration": 2.377453,
   "end_time": "2023-11-21T18:09:32.562235",
   "environment_variables": {},
   "exception": null,
   "input_path": "create_report.ipynb",
   "output_path": "create_report.ipynb",
   "parameters": {
    "YEAR": 2020
   },
   "start_time": "2023-11-21T18:09:30.184782",
   "version": "2.5.0"
  }
 },
 "nbformat": 4,
 "nbformat_minor": 5
}