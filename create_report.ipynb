{
 "cells": [
  {
   "cell_type": "markdown",
   "id": "849be232",
   "metadata": {
    "tags": [
     "papermill-error-cell-tag"
    ]
   },
   "source": [
    "<span style=\"color:red; font-family:Helvetica Neue, Helvetica, Arial, sans-serif; font-size:2em;\">An Exception was encountered at '<a href=\"#papermill-error-cell\">In [7]</a>'.</span>"
   ]
  },
  {
   "attachments": {},
   "cell_type": "markdown",
   "id": "ab2e797d",
   "metadata": {
    "azdata_cell_guid": "d2b031ab-909a-4208-843d-7a15d1a26f72",
    "language": "python",
    "papermill": {
     "duration": 0.009773,
     "end_time": "2023-11-27T16:45:57.071110",
     "exception": false,
     "start_time": "2023-11-27T16:45:57.061337",
     "status": "completed"
    },
    "tags": []
   },
   "source": [
    "# US Institutions Financial Report"
   ]
  },
  {
   "cell_type": "code",
   "execution_count": 1,
   "id": "ccbef6fa",
   "metadata": {
    "azdata_cell_guid": "d2909afc-98aa-4542-865a-6a9ca4322586",
    "execution": {
     "iopub.execute_input": "2023-11-27T16:45:57.078516Z",
     "iopub.status.busy": "2023-11-27T16:45:57.078335Z",
     "iopub.status.idle": "2023-11-27T16:45:57.384122Z",
     "shell.execute_reply": "2023-11-27T16:45:57.383838Z"
    },
    "language": "python",
    "papermill": {
     "duration": 0.310494,
     "end_time": "2023-11-27T16:45:57.385105",
     "exception": false,
     "start_time": "2023-11-27T16:45:57.074611",
     "status": "completed"
    },
    "tags": []
   },
   "outputs": [],
   "source": [
    "# May need to install pandas directly in the Jupyter notebook with the following commands\n",
    "#! pip3 install --user pandas\n",
    "#! pip3 install --user psycopg\n",
    "#!pip3 install --user matplotlib\n",
    "import pandas as pd\n",
    "import psycopg\n",
    "import matplotlib as plt\n",
    "from credentials import DBNAME, HOST, USERNAME, PASSWORD"
   ]
  },
  {
   "cell_type": "code",
   "execution_count": 2,
   "id": "cb2889ef",
   "metadata": {
    "execution": {
     "iopub.execute_input": "2023-11-27T16:45:57.389456Z",
     "iopub.status.busy": "2023-11-27T16:45:57.389324Z",
     "iopub.status.idle": "2023-11-27T16:45:57.391096Z",
     "shell.execute_reply": "2023-11-27T16:45:57.390899Z"
    },
    "papermill": {
     "duration": 0.004785,
     "end_time": "2023-11-27T16:45:57.391880",
     "exception": false,
     "start_time": "2023-11-27T16:45:57.387095",
     "status": "completed"
    },
    "tags": [
     "injected-parameters"
    ]
   },
   "outputs": [],
   "source": [
    "# Parameters\n",
    "YEAR = 2021\n"
   ]
  },
  {
   "cell_type": "code",
   "execution_count": 3,
   "id": "5f72e136",
   "metadata": {
    "azdata_cell_guid": "a2ac0026-c78e-4fe9-af9e-6e620fdda0ea",
    "execution": {
     "iopub.execute_input": "2023-11-27T16:45:57.396002Z",
     "iopub.status.busy": "2023-11-27T16:45:57.395910Z",
     "iopub.status.idle": "2023-11-27T16:45:59.924388Z",
     "shell.execute_reply": "2023-11-27T16:45:59.923803Z"
    },
    "language": "python",
    "papermill": {
     "duration": 2.532395,
     "end_time": "2023-11-27T16:45:59.926154",
     "exception": false,
     "start_time": "2023-11-27T16:45:57.393759",
     "status": "completed"
    },
    "tags": []
   },
   "outputs": [],
   "source": [
    "# Set the connection and grab the data from SQL\n",
    "\n",
    "# Connect to the database using parameters from credentials.py\n",
    "conn = psycopg.connect(\n",
    "    dbname=DBNAME,\n",
    "    host=HOST,\n",
    "    user=USERNAME,\n",
    "    password=PASSWORD)\n",
    "\n",
    "# Create a cursor and use it to submit/execute a query:\n",
    "cur = conn.cursor()\n",
    "\n",
    "select_cmd = \"\"\"\n",
    "    SELECT * FROM institutions \n",
    "    WHERE extracted_year <= to_date(%s::text ,'YYYY-MM-DD');\n",
    "\"\"\"\n",
    "\n",
    "# Save to a dataframe\n",
    "df = pd.DataFrame(cur.execute(select_cmd, (YEAR,)))\n",
    "df.columns =['pkey', 'opeid', 'name', 'address', 'latitude',\n",
    "            'longitude', 'fips', 'region', 'ccbasic', 'cbsa', \n",
    "            'csa', 'accreditor', 'pred_degree', 'highest_degree',\n",
    "            'control', 'admission_rate', 'in_state_tuit', 'out_state_tuit',\n",
    "            'prog_year_tuit', 'revenue_tuit', 'two_yr_default',\n",
    "            'three_yr_default', 'avg_faculty_salary', 'sat_avg', \n",
    "            'prop_loan', 'extracted_year', 'zip', 'city', 'state']\n",
    "\n",
    "# Close the connection\n",
    "cur.close()\n",
    "conn.close()"
   ]
  },
  {
   "cell_type": "markdown",
   "id": "ed65285e",
   "metadata": {
    "papermill": {
     "duration": 0.0028,
     "end_time": "2023-11-27T16:45:59.931672",
     "exception": false,
     "start_time": "2023-11-27T16:45:59.928872",
     "status": "completed"
    },
    "tags": []
   },
   "source": [
    "# Data Summary"
   ]
  },
  {
   "cell_type": "code",
   "execution_count": null,
   "id": "218510b1",
   "metadata": {
    "papermill": {
     "duration": 0.002593,
     "end_time": "2023-11-27T16:45:59.936205",
     "exception": false,
     "start_time": "2023-11-27T16:45:59.933612",
     "status": "completed"
    },
    "tags": []
   },
   "outputs": [],
   "source": []
  },
  {
   "cell_type": "markdown",
   "id": "95aedc9a",
   "metadata": {
    "papermill": {
     "duration": 0.001977,
     "end_time": "2023-11-27T16:45:59.940374",
     "exception": false,
     "start_time": "2023-11-27T16:45:59.938397",
     "status": "completed"
    },
    "tags": []
   },
   "source": [
    "# Summary of Current College Tuition Rates"
   ]
  },
  {
   "cell_type": "code",
   "execution_count": null,
   "id": "169a1e7b",
   "metadata": {
    "papermill": {
     "duration": 0.002274,
     "end_time": "2023-11-27T16:45:59.946383",
     "exception": false,
     "start_time": "2023-11-27T16:45:59.944109",
     "status": "completed"
    },
    "tags": []
   },
   "outputs": [],
   "source": []
  },
  {
   "cell_type": "markdown",
   "id": "fbb631ad",
   "metadata": {
    "papermill": {
     "duration": 0.001901,
     "end_time": "2023-11-27T16:45:59.950446",
     "exception": false,
     "start_time": "2023-11-27T16:45:59.948545",
     "status": "completed"
    },
    "tags": []
   },
   "source": [
    "# Best and Worst Performing Institutions by Loan-Repayment Rates"
   ]
  },
  {
   "cell_type": "code",
   "execution_count": 4,
   "id": "aa039cf5",
   "metadata": {
    "execution": {
     "iopub.execute_input": "2023-11-27T16:45:59.955969Z",
     "iopub.status.busy": "2023-11-27T16:45:59.955709Z",
     "iopub.status.idle": "2023-11-27T16:45:59.965203Z",
     "shell.execute_reply": "2023-11-27T16:45:59.964661Z"
    },
    "papermill": {
     "duration": 0.014452,
     "end_time": "2023-11-27T16:45:59.966893",
     "exception": false,
     "start_time": "2023-11-27T16:45:59.952441",
     "status": "completed"
    },
    "tags": []
   },
   "outputs": [],
   "source": [
    "# Sort the DataFrame by loan repayment rates in ascending order\n",
    "df_sorted = df.sort_values(by='three_yr_default')\n",
    "\n",
    "# Extract the top 10 and bottom 10 institutions\n",
    "best_performing = df_sorted.head(10)\n",
    "worst_performing = df_sorted.tail(10)\n",
    "\n",
    "#print(best_performing)\n",
    "#print(worst_performing)"
   ]
  },
  {
   "cell_type": "code",
   "execution_count": 5,
   "id": "cb2addc2",
   "metadata": {
    "execution": {
     "iopub.execute_input": "2023-11-27T16:45:59.972343Z",
     "iopub.status.busy": "2023-11-27T16:45:59.972119Z",
     "iopub.status.idle": "2023-11-27T16:45:59.979854Z",
     "shell.execute_reply": "2023-11-27T16:45:59.978929Z"
    },
    "papermill": {
     "duration": 0.012142,
     "end_time": "2023-11-27T16:45:59.981492",
     "exception": false,
     "start_time": "2023-11-27T16:45:59.969350",
     "status": "completed"
    },
    "tags": []
   },
   "outputs": [],
   "source": [
    "# Can export to a PDF if desired\n",
    "# OPTIONAL: don't need to run\n",
    "best_performing[['name', 'three_yr_default']].to_csv('data/best_performing_institutions.csv', index=False)\n",
    "worst_performing[['name', 'three_yr_default']].to_csv('data/worst_performing_institutions.csv', index=False)"
   ]
  },
  {
   "cell_type": "markdown",
   "id": "3fc539c9",
   "metadata": {
    "papermill": {
     "duration": 0.001974,
     "end_time": "2023-11-27T16:45:59.986113",
     "exception": false,
     "start_time": "2023-11-27T16:45:59.984139",
     "status": "completed"
    },
    "tags": []
   },
   "source": [
    "# Tuition and Loan Repayment Rates over Time"
   ]
  },
  {
   "cell_type": "markdown",
   "id": "a6955e8b",
   "metadata": {
    "papermill": {
     "duration": 0.002005,
     "end_time": "2023-11-27T16:45:59.990053",
     "exception": false,
     "start_time": "2023-11-27T16:45:59.988048",
     "status": "completed"
    },
    "tags": []
   },
   "source": [
    "How have tuition rates and loan repayment rates changed over time for the top 10 most expensive universities in the U.S.?\n",
    "We will explore this by first finding the top 10 most expensive schools."
   ]
  },
  {
   "cell_type": "code",
   "execution_count": 6,
   "id": "82e6b4b9",
   "metadata": {
    "execution": {
     "iopub.execute_input": "2023-11-27T16:45:59.995446Z",
     "iopub.status.busy": "2023-11-27T16:45:59.995199Z",
     "iopub.status.idle": "2023-11-27T16:46:00.006895Z",
     "shell.execute_reply": "2023-11-27T16:46:00.005406Z"
    },
    "papermill": {
     "duration": 0.019067,
     "end_time": "2023-11-27T16:46:00.011308",
     "exception": false,
     "start_time": "2023-11-27T16:45:59.992241",
     "status": "completed"
    },
    "tags": []
   },
   "outputs": [],
   "source": [
    "# First find the top 10 most expensive schools\n",
    "# Find most expensive out of:\n",
    "# (in_state_tuit + out_state_tuit)/2, or the average tuition cost\n",
    "\n",
    "df['avg_tuition'] = (df['in_state_tuit'] + df['out_state_tuit']) / 2\n",
    "\n",
    "df_sorted = df.sort_values(by='avg_tuition', ascending=False)\n",
    "\n",
    "top_10 = df_sorted.head(10)"
   ]
  },
  {
   "cell_type": "markdown",
   "id": "aa01e6e3",
   "metadata": {
    "papermill": {
     "duration": 0.002052,
     "end_time": "2023-11-27T16:46:00.015567",
     "exception": false,
     "start_time": "2023-11-27T16:46:00.013515",
     "status": "completed"
    },
    "tags": []
   },
   "source": [
    "Next, graph these schools based on their tuition and loan repayment rates."
   ]
  },
  {
   "cell_type": "markdown",
   "id": "ced8c40f",
   "metadata": {
    "tags": [
     "papermill-error-cell-tag"
    ]
   },
   "source": [
    "<span id=\"papermill-error-cell\" style=\"color:red; font-family:Helvetica Neue, Helvetica, Arial, sans-serif; font-size:2em;\">Execution using papermill encountered an exception here and stopped:</span>"
   ]
  },
  {
   "cell_type": "code",
   "execution_count": 7,
   "id": "b54d9614",
   "metadata": {
    "execution": {
     "iopub.execute_input": "2023-11-27T16:46:00.023971Z",
     "iopub.status.busy": "2023-11-27T16:46:00.023674Z",
     "iopub.status.idle": "2023-11-27T16:46:00.148566Z",
     "shell.execute_reply": "2023-11-27T16:46:00.148076Z"
    },
    "papermill": {
     "duration": 0.128589,
     "end_time": "2023-11-27T16:46:00.149308",
     "exception": true,
     "start_time": "2023-11-27T16:46:00.020719",
     "status": "failed"
    },
    "tags": []
   },
   "outputs": [
    {
     "ename": "AttributeError",
     "evalue": "module 'matplotlib' has no attribute 'figure'",
     "output_type": "error",
     "traceback": [
      "\u001b[0;31m---------------------------------------------------------------------------\u001b[0m",
      "\u001b[0;31mAttributeError\u001b[0m                            Traceback (most recent call last)",
      "Cell \u001b[0;32mIn[7], line 1\u001b[0m\n\u001b[0;32m----> 1\u001b[0m \u001b[43mplt\u001b[49m\u001b[38;5;241;43m.\u001b[39;49m\u001b[43mfigure\u001b[49m(figsize\u001b[38;5;241m=\u001b[39m(\u001b[38;5;241m10\u001b[39m, \u001b[38;5;241m6\u001b[39m))\n\u001b[1;32m      2\u001b[0m plt\u001b[38;5;241m.\u001b[39mscatter(top_10[\u001b[38;5;124m'\u001b[39m\u001b[38;5;124mavg_tuition\u001b[39m\u001b[38;5;124m'\u001b[39m], top_10[\u001b[38;5;124m'\u001b[39m\u001b[38;5;124mthree_yr_default\u001b[39m\u001b[38;5;124m'\u001b[39m], color\u001b[38;5;241m=\u001b[39m\u001b[38;5;124m'\u001b[39m\u001b[38;5;124mblue\u001b[39m\u001b[38;5;124m'\u001b[39m)\n\u001b[1;32m      3\u001b[0m plt\u001b[38;5;241m.\u001b[39mtitle(\u001b[38;5;124m'\u001b[39m\u001b[38;5;124mTop 10 Most Expensive Universities - Tuition vs. Three-Year Default Rate\u001b[39m\u001b[38;5;124m'\u001b[39m)\n",
      "File \u001b[0;32m~/miniforge3/envs/36650/lib/python3.11/site-packages/matplotlib/_api/__init__.py:217\u001b[0m, in \u001b[0;36mcaching_module_getattr.<locals>.__getattr__\u001b[0;34m(name)\u001b[0m\n\u001b[1;32m    215\u001b[0m \u001b[38;5;28;01mif\u001b[39;00m name \u001b[38;5;129;01min\u001b[39;00m props:\n\u001b[1;32m    216\u001b[0m     \u001b[38;5;28;01mreturn\u001b[39;00m props[name]\u001b[38;5;241m.\u001b[39m\u001b[38;5;21m__get__\u001b[39m(instance)\n\u001b[0;32m--> 217\u001b[0m \u001b[38;5;28;01mraise\u001b[39;00m \u001b[38;5;167;01mAttributeError\u001b[39;00m(\n\u001b[1;32m    218\u001b[0m     \u001b[38;5;124mf\u001b[39m\u001b[38;5;124m\"\u001b[39m\u001b[38;5;124mmodule \u001b[39m\u001b[38;5;132;01m{\u001b[39;00m\u001b[38;5;28mcls\u001b[39m\u001b[38;5;241m.\u001b[39m\u001b[38;5;18m__module__\u001b[39m\u001b[38;5;132;01m!r}\u001b[39;00m\u001b[38;5;124m has no attribute \u001b[39m\u001b[38;5;132;01m{\u001b[39;00mname\u001b[38;5;132;01m!r}\u001b[39;00m\u001b[38;5;124m\"\u001b[39m)\n",
      "\u001b[0;31mAttributeError\u001b[0m: module 'matplotlib' has no attribute 'figure'"
     ]
    }
   ],
   "source": [
    "plt.figure(figsize=(10, 6))\n",
    "plt.scatter(top_10['avg_tuition'], top_10['three_yr_default'], color='blue')\n",
    "plt.title('Top 10 Most Expensive Universities - Tuition vs. Three-Year Default Rate')\n",
    "plt.xlabel('Average Tuition')\n",
    "plt.ylabel('Three-Year Default Rate')\n",
    "plt.show()"
   ]
  },
  {
   "cell_type": "markdown",
   "id": "7520b4dd",
   "metadata": {
    "papermill": {
     "duration": null,
     "end_time": null,
     "exception": null,
     "start_time": null,
     "status": "pending"
    },
    "tags": []
   },
   "source": [
    "# Relationship between average tuition and revenue tuition and SAT score"
   ]
  },
  {
   "cell_type": "markdown",
   "id": "b823d841",
   "metadata": {
    "papermill": {
     "duration": null,
     "end_time": null,
     "exception": null,
     "start_time": null,
     "status": "pending"
    },
    "tags": []
   },
   "source": [
    "Are “smarter” colleges more expensive? Below, we have plots of the average tuition vs. SAT score as well as the revenue tuition vs. SAT score."
   ]
  },
  {
   "cell_type": "code",
   "execution_count": null,
   "id": "3c7cdfbc",
   "metadata": {
    "papermill": {
     "duration": null,
     "end_time": null,
     "exception": null,
     "start_time": null,
     "status": "pending"
    },
    "tags": []
   },
   "outputs": [],
   "source": [
    "plt.figure(figsize=(10, 6))\n",
    "plt.scatter(df['sat_avg'], df['avg_tuition'], color='red')\n",
    "plt.title('Average Tuition vs. SAT scores')\n",
    "plt.xlabel('SAT score')\n",
    "plt.ylabel('Average tuition')\n",
    "plt.show()"
   ]
  },
  {
   "cell_type": "code",
   "execution_count": null,
   "id": "4df059c1",
   "metadata": {
    "papermill": {
     "duration": null,
     "end_time": null,
     "exception": null,
     "start_time": null,
     "status": "pending"
    },
    "tags": []
   },
   "outputs": [],
   "source": [
    "plt.figure(figsize=(10, 6))\n",
    "plt.scatter(df['sat_avg'], df['revenue_tuit'], color='red')\n",
    "plt.title('Revenue Tuition vs. SAT scores')\n",
    "plt.xlabel('SAT score')\n",
    "plt.ylabel('Revenue tuition')\n",
    "plt.show()"
   ]
  },
  {
   "cell_type": "markdown",
   "id": "bf4f6255",
   "metadata": {
    "papermill": {
     "duration": null,
     "end_time": null,
     "exception": null,
     "start_time": null,
     "status": "pending"
    },
    "tags": []
   },
   "source": [
    "# SAT Scores and College Admission Rate"
   ]
  },
  {
   "cell_type": "code",
   "execution_count": null,
   "id": "0ea5e42a",
   "metadata": {
    "papermill": {
     "duration": null,
     "end_time": null,
     "exception": null,
     "start_time": null,
     "status": "pending"
    },
    "tags": []
   },
   "outputs": [],
   "source": []
  },
  {
   "cell_type": "markdown",
   "id": "1b3252ee",
   "metadata": {
    "papermill": {
     "duration": null,
     "end_time": null,
     "exception": null,
     "start_time": null,
     "status": "pending"
    },
    "tags": []
   },
   "source": [
    "# Faculty Salary and Revenue Tuition"
   ]
  },
  {
   "cell_type": "code",
   "execution_count": null,
   "id": "11eff42d",
   "metadata": {
    "papermill": {
     "duration": null,
     "end_time": null,
     "exception": null,
     "start_time": null,
     "status": "pending"
    },
    "tags": []
   },
   "outputs": [],
   "source": [
    "average_rev_tuit_by_state = df.groupby('state')['revenue_tuit'].mean()\n",
    "df_sorted_rev = df.sort_values(by='revenue_tuit', ascending=False)\n",
    "top_10 = df_sorted_rev.head(10)"
   ]
  },
  {
   "cell_type": "code",
   "execution_count": null,
   "id": "9c5a9d45",
   "metadata": {
    "papermill": {
     "duration": null,
     "end_time": null,
     "exception": null,
     "start_time": null,
     "status": "pending"
    },
    "tags": []
   },
   "outputs": [],
   "source": [
    "average_salary_fac = df.groupby('state')\n",
    "df_sorted_fac = average_rev_tuit_by_state.sort_values(by='avg_faculty_salary', ascending=False)\n",
    "top_10 = df_sorted_fac.head(10)"
   ]
  },
  {
   "cell_type": "code",
   "execution_count": null,
   "id": "7c0eca38",
   "metadata": {
    "papermill": {
     "duration": null,
     "end_time": null,
     "exception": null,
     "start_time": null,
     "status": "pending"
    },
    "tags": []
   },
   "outputs": [],
   "source": [
    "plt.figure(figsize=(10, 6))\n",
    "plt.hist(average_salary_fac['state'], bins=2)\n",
    "plt.title('Average Faculty by State')\n",
    "plt.xlabel('State')\n",
    "plt.ylabel('Average Faculty Salary')\n",
    "plt.show()"
   ]
  },
  {
   "cell_type": "markdown",
   "id": "4931b15f",
   "metadata": {
    "papermill": {
     "duration": null,
     "end_time": null,
     "exception": null,
     "start_time": null,
     "status": "pending"
    },
    "tags": []
   },
   "source": [
    "Relationship between average faculty salary and revenue tuition, which will show the relationship and contrast between how much students pay and how much faculties get paid. "
   ]
  },
  {
   "cell_type": "code",
   "execution_count": null,
   "id": "6411466d",
   "metadata": {
    "papermill": {
     "duration": null,
     "end_time": null,
     "exception": null,
     "start_time": null,
     "status": "pending"
    },
    "tags": []
   },
   "outputs": [],
   "source": [
    "plt.figure(figsize=(10, 6))\n",
    "plt.scatter(df['avg_faculty_salary'], df['revenue_tuit'], color='red')\n",
    "plt.title('Revenue Tuition vs. Average Faculty Salary')\n",
    "plt.xlabel('Average Faculty Salary')\n",
    "plt.ylabel('Revenue tuition')\n",
    "plt.show()"
   ]
  },
  {
   "cell_type": "markdown",
   "id": "bcd9e04d",
   "metadata": {
    "papermill": {
     "duration": null,
     "end_time": null,
     "exception": null,
     "start_time": null,
     "status": "pending"
    },
    "tags": []
   },
   "source": [
    "We seperate between public and private schools to see the difference between them. "
   ]
  },
  {
   "cell_type": "code",
   "execution_count": null,
   "id": "8474d73b",
   "metadata": {
    "papermill": {
     "duration": null,
     "end_time": null,
     "exception": null,
     "start_time": null,
     "status": "pending"
    },
    "tags": []
   },
   "outputs": [],
   "source": [
    "private_public = df.groupby('control')['avg_faculty_salary'].mean()"
   ]
  },
  {
   "cell_type": "code",
   "execution_count": null,
   "id": "1db11258",
   "metadata": {
    "papermill": {
     "duration": null,
     "end_time": null,
     "exception": null,
     "start_time": null,
     "status": "pending"
    },
    "tags": []
   },
   "outputs": [],
   "source": [
    "plt.figure(figsize=(10, 6))\n",
    "plt.hist(private_public['control'], bin=2)\n",
    "plt.title('Faculty Salary Difference between Public and Private Schools')\n",
    "plt.xlabel(private_public['control'])\n",
    "plt.ylabel('Average Faculty Salary')\n",
    "plt.show()"
   ]
  }
 ],
 "metadata": {
  "kernelspec": {
   "display_name": "Python 3",
   "language": "python",
   "name": "python3"
  },
  "language_info": {
   "codemirror_mode": {
    "name": "ipython",
    "version": 3
   },
   "file_extension": ".py",
   "mimetype": "text/x-python",
   "name": "python",
   "nbconvert_exporter": "python",
   "pygments_lexer": "ipython3",
   "version": "3.11.6"
  },
  "papermill": {
   "default_parameters": {},
   "duration": 4.242714,
   "end_time": "2023-11-27T16:46:00.368806",
   "environment_variables": {},
   "exception": true,
   "input_path": "create_report.ipynb",
   "output_path": "create_report.ipynb",
   "parameters": {
    "YEAR": 2021
   },
   "start_time": "2023-11-27T16:45:56.126092",
   "version": "2.5.0"
  }
 },
 "nbformat": 4,
 "nbformat_minor": 5
}