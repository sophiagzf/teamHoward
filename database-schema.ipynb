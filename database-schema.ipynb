{
    "metadata": {
        "kernelspec": {
            "name": "SQL",
            "display_name": "SQL",
            "language": "sql"
        },
        "language_info": {
            "name": "sql",
            "version": ""
        }
    },
    "nbformat_minor": 2,
    "nbformat": 4,
    "cells": [
        {
            "cell_type": "markdown",
            "source": [
                "Database Schema for College Scorecard and IPEDS data\n",
                "\n",
                "Team Howard\n",
                "\n",
                "Sophia Gan, Marion Haney, Elizabeth Ho\n",
                "\n",
                "Questions for OH: what are the Carnegie Classification variables? Should these variables have the same datatype as the original data and we clean it in part 2? Or should they be already cleaned within the table?"
            ],
            "metadata": {
                "azdata_cell_guid": "947eefe4-b1e4-4cf9-95e9-931d9117038a"
            },
            "attachments": {}
        },
        {
            "cell_type": "code",
            "source": [
                "CREATE TABLE institutions (\n",
                "    opeid VARCHAR(10) PRIMARY KEY,\n",
                "    name TEXT, -- name of institution\n",
                "    location TEXT,\n",
                "    address TEXT,\n",
                "    latitude FLOAT,\n",
                "    longitude FLOAT,\n",
                "    carnegie2021 INT, -- 2021 Carnegie Classification (multiple variables here?)\n",
                "    cbsa, -- core based statistical area\n",
                "    csa, -- combined statistical area\n",
                "    fips INT, -- FIPS code for county\n",
                "    accreditor TEXT, -- accrediting agency\n",
                "    pred_degree TINYINT, -- majority degree type\n",
                "    high_degree TINYINT, -- highest degree possible\n",
                "    control INT, -- ownership/control type (public vs. private)\n",
                "    region INT, -- 0 to 9 indicating US region\n",
                "    ccbasic, -- 2021 Carnegie Classification Basic category\n",
                "    admission_rate,\n",
                "    in_state_tuit,\n",
                "    out_state_tuit,\n",
                "    prog_year_tuit, -- program year tuition\n",
                "    rev_tuit, -- revenue per full-time equivalent student\n",
                "    avg_faculty_salary, \n",
                "    2yr_default, -- 2 year default rate on repayment\n",
                "    3yr_default, -- 3 year default rate on repayment\n",
                "    first_gen_pct, -- percentage of enrolled first-generation students\n",
                "    avg_family_inc_dep, -- average family income for dependent students\n",
                "    avg_family_inc_ind, -- average family income for indepentdent students\n",
                ");"
            ],
            "metadata": {
                "azdata_cell_guid": "aded1279-d392-411b-9e48-3bd47b5325b9",
                "language": "sql"
            },
            "outputs": [],
            "execution_count": null
        }
    ]
}