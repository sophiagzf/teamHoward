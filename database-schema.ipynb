{
    "cells": [
        {
            "attachments": {},
            "cell_type": "markdown",
            "metadata": {
                "azdata_cell_guid": "947eefe4-b1e4-4cf9-95e9-931d9117038a"
            },
            "source": [
                "Database Schema for College Scorecard and IPEDS data\n",
                "\n",
                "Team Howard\n",
                "\n",
                "Sophia Gan, Marion Haney, Elizabeth Ho"
            ]
        },
        {
            "cell_type": "code",
            "execution_count": 1,
            "metadata": {
                "azdata_cell_guid": "17bea885-d9cf-45ab-bd1c-0fc323df4336",
                "language": "sql",
                "tags": []
            },
            "outputs": [
                {
                    "data": {
                        "text/html": [
                            "Commands completed successfully"
                        ]
                    },
                    "metadata": {},
                    "output_type": "display_data"
                },
                {
                    "data": {
                        "text/html": [
                            "Commands completed successfully"
                        ]
                    },
                    "metadata": {},
                    "output_type": "display_data"
                },
                {
                    "data": {
                        "text/html": [
                            "Commands completed successfully"
                        ]
                    },
                    "metadata": {},
                    "output_type": "display_data"
                },
                {
                    "data": {
                        "text/html": [
                            "Total execution time: 00:00:00.169"
                        ]
                    },
                    "metadata": {},
                    "output_type": "display_data"
                }
            ],
            "source": [
                "CREATE TYPE degree AS \n",
                "    ENUM('NA', 'Certificate', 'Associate', 'Bachelor', 'Graduate');\n",
                "CREATE TYPE region_type AS \n",
                "    ENUM('US Service', 'New England', 'Mid East', 'Great Lakes', \n",
                "    'Plains', 'Southeast', 'Southwest', 'Rocky Mountains', 'Far West', 'Outlying Areas');\n",
                "CREATE TYPE ownership AS \n",
                "    ENUM('Public', 'Private Non-Profit', 'Private For-Profit');"
            ]
        },
        {
            "cell_type": "code",
            "execution_count": 4,
            "metadata": {
                "azdata_cell_guid": "aded1279-d392-411b-9e48-3bd47b5325b9",
                "language": "sql"
            },
            "outputs": [
                {
                    "data": {
                        "text/html": [
                            "Commands completed successfully"
                        ]
                    },
                    "metadata": {},
                    "output_type": "display_data"
                },
                {
                    "data": {
                        "text/html": [
                            "Total execution time: 00:00:00.040"
                        ]
                    },
                    "metadata": {},
                    "output_type": "display_data"
                }
            ],
            "source": [
                "CREATE TABLE institutions (\n",
                "    opeid VARCHAR(10) PRIMARY KEY,\n",
                "    name TEXT, -- name of institution\n",
                "    location TEXT,\n",
                "    address TEXT,\n",
                "    latitude FLOAT,\n",
                "    longitude FLOAT,\n",
                "    fips INT, -- FIPS code for county\n",
                "    region region_type, -- US region\n",
                "    ccbasic INT, -- 2021 Carnegie Classification Basic category\n",
                "    cbsa FLOAT, -- core based statistical area\n",
                "    csa FLOAT, -- combined statistical area\n",
                "    accreditor TEXT, -- accrediting agency\n",
                "    pred_degree degree, -- majority degree\n",
                "    highest_degree degree, -- highest degree possible\n",
                "    control ownership, -- ownership/control type\n",
                "    admission_rate FLOAT CHECK (admission_rate <= 1 AND admission_rate >= 0),\n",
                "    in_state_tuit INT,\n",
                "    out_state_tuit INT,\n",
                "    prog_year_tuit INT, -- program year tuition\n",
                "    revenue_tuit INT, -- revenue per full-time equivalent student\n",
                "    avg_faculty_salary INT,\n",
                "    two_yr_default FLOAT, -- 2 year default rate on repayment\n",
                "    three_yr_default FLOAT, -- 3 year default rate on repayment\n",
                "    -- extra vars\n",
                "    avg_faculty_salary INT, -- average faculty salary\n",
                "    avg_sat FLOAT, -- average SAT score of students admitted\n",
                "    pct_loan FLOAT, -- percentage of students receiving federal student loans\n",
                "    -- created vars\n",
                "    extracted_year TEXT, -- extracted year from data file\n",
                ");"
            ]
        }
    ],
    "metadata": {
        "kernelspec": {
            "display_name": "SQL",
            "language": "sql",
            "name": "SQL"
        },
        "language_info": {
            "name": "sql",
            "version": ""
        }
    },
    "nbformat": 4,
    "nbformat_minor": 2
}
