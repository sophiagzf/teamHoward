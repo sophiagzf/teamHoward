{
 "cells": [
  {
   "cell_type": "markdown",
   "metadata": {},
   "source": [
    "# Load Data: College Scorecard\n",
    "## Team Howard Pt. 2\n",
    "Sophia Gan, Marion Haney, Elizabeth Ho"
   ]
  }
 ],
 "metadata": {
  "language_info": {
   "name": "python"
  }
 },
 "nbformat": 4,
 "nbformat_minor": 2
}
