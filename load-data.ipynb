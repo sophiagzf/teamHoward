{
 "cells": [
  {
   "cell_type": "markdown",
   "metadata": {},
   "source": [
    "# Load Data: College Scorecard\n",
    "## Team Howard Pt. 2\n",
    "Sophia Gan, Marion Haney, Elizabeth Ho"
   ]
  },
  {
   "cell_type": "code",
   "execution_count": 1,
   "metadata": {},
   "outputs": [],
   "source": [
    "import pandas as pd"
   ]
  },
  {
   "cell_type": "markdown",
   "metadata": {},
   "source": [
    "## Load in raw data"
   ]
  },
  {
   "cell_type": "code",
   "execution_count": 8,
   "metadata": {},
   "outputs": [
    {
     "name": "stderr",
     "output_type": "stream",
     "text": [
      "/var/folders/cb/txf808151wn_d7q088dtr6hc0000gn/T/ipykernel_56217/1469060708.py:5: DtypeWarning: Columns (1729,1909,1910,1911,1912,1913,2376,2377,2958) have mixed types. Specify dtype option on import or set low_memory=False.\n",
      "  raw_scorecard = pd.read_csv(\"data/MERGED2018_19_PP.csv\")\n"
     ]
    }
   ],
   "source": [
    "# IPEDS\n",
    "#hd2019 = pd.read_csv(\"data/hd2019.csv\")\n",
    "\n",
    "# College Scorecard\n",
    "raw_scorecard = pd.read_csv(\"data/MERGED2018_19_PP.csv\")"
   ]
  },
  {
   "cell_type": "code",
   "execution_count": 15,
   "metadata": {},
   "outputs": [],
   "source": [
    "# Keep only the columns we want from College Scorecard data\n",
    "scorecard = raw_scorecard.loc[:, [\"UNITID\", \"ACCREDAGENCY\", \"PREDDEG\", \"HIGHDEG\",\n",
    "                                  \"CONTROL\", \"REGION\", \"CCBASIC\", \"ADM_RATE\", \n",
    "                                  \"CCBASIC\", \"ADM_RATE\", \"TUITIONFEE_IN\", \"TUITIONFEE_OUT\",\n",
    "                                  \"TUITIONFEE_PROG\", \"TUITFTE\", \"AVGFACSAL\", \"CDR2\", \"CDR3\"]]"
   ]
  },
  {
   "cell_type": "code",
   "execution_count": 16,
   "metadata": {},
   "outputs": [
    {
     "data": {
      "text/html": [
       "<div>\n",
       "<style scoped>\n",
       "    .dataframe tbody tr th:only-of-type {\n",
       "        vertical-align: middle;\n",
       "    }\n",
       "\n",
       "    .dataframe tbody tr th {\n",
       "        vertical-align: top;\n",
       "    }\n",
       "\n",
       "    .dataframe thead th {\n",
       "        text-align: right;\n",
       "    }\n",
       "</style>\n",
       "<table border=\"1\" class=\"dataframe\">\n",
       "  <thead>\n",
       "    <tr style=\"text-align: right;\">\n",
       "      <th></th>\n",
       "      <th>UNITID</th>\n",
       "      <th>ACCREDAGENCY</th>\n",
       "      <th>PREDDEG</th>\n",
       "      <th>HIGHDEG</th>\n",
       "      <th>CONTROL</th>\n",
       "      <th>REGION</th>\n",
       "      <th>CCBASIC</th>\n",
       "      <th>ADM_RATE</th>\n",
       "      <th>CCBASIC</th>\n",
       "      <th>ADM_RATE</th>\n",
       "      <th>TUITIONFEE_IN</th>\n",
       "      <th>TUITIONFEE_OUT</th>\n",
       "      <th>TUITIONFEE_PROG</th>\n",
       "      <th>TUITFTE</th>\n",
       "      <th>AVGFACSAL</th>\n",
       "      <th>CDR2</th>\n",
       "      <th>CDR3</th>\n",
       "    </tr>\n",
       "  </thead>\n",
       "  <tbody>\n",
       "    <tr>\n",
       "      <th>0</th>\n",
       "      <td>100654</td>\n",
       "      <td>NaN</td>\n",
       "      <td>3</td>\n",
       "      <td>4</td>\n",
       "      <td>1</td>\n",
       "      <td>5</td>\n",
       "      <td>NaN</td>\n",
       "      <td>0.8986</td>\n",
       "      <td>NaN</td>\n",
       "      <td>0.8986</td>\n",
       "      <td>9744.0</td>\n",
       "      <td>18354.0</td>\n",
       "      <td>NaN</td>\n",
       "      <td>7413.0</td>\n",
       "      <td>7101.0</td>\n",
       "      <td>NaN</td>\n",
       "      <td>0.182</td>\n",
       "    </tr>\n",
       "    <tr>\n",
       "      <th>1</th>\n",
       "      <td>100663</td>\n",
       "      <td>NaN</td>\n",
       "      <td>3</td>\n",
       "      <td>4</td>\n",
       "      <td>1</td>\n",
       "      <td>5</td>\n",
       "      <td>NaN</td>\n",
       "      <td>0.9211</td>\n",
       "      <td>NaN</td>\n",
       "      <td>0.9211</td>\n",
       "      <td>8568.0</td>\n",
       "      <td>19704.0</td>\n",
       "      <td>NaN</td>\n",
       "      <td>13177.0</td>\n",
       "      <td>10717.0</td>\n",
       "      <td>NaN</td>\n",
       "      <td>0.057</td>\n",
       "    </tr>\n",
       "    <tr>\n",
       "      <th>2</th>\n",
       "      <td>100690</td>\n",
       "      <td>NaN</td>\n",
       "      <td>3</td>\n",
       "      <td>4</td>\n",
       "      <td>2</td>\n",
       "      <td>5</td>\n",
       "      <td>NaN</td>\n",
       "      <td>NaN</td>\n",
       "      <td>NaN</td>\n",
       "      <td>NaN</td>\n",
       "      <td>6900.0</td>\n",
       "      <td>6900.0</td>\n",
       "      <td>NaN</td>\n",
       "      <td>14273.0</td>\n",
       "      <td>4292.0</td>\n",
       "      <td>NaN</td>\n",
       "      <td>0.110</td>\n",
       "    </tr>\n",
       "    <tr>\n",
       "      <th>3</th>\n",
       "      <td>100706</td>\n",
       "      <td>NaN</td>\n",
       "      <td>3</td>\n",
       "      <td>4</td>\n",
       "      <td>1</td>\n",
       "      <td>5</td>\n",
       "      <td>NaN</td>\n",
       "      <td>0.8087</td>\n",
       "      <td>NaN</td>\n",
       "      <td>0.8087</td>\n",
       "      <td>10714.0</td>\n",
       "      <td>22362.0</td>\n",
       "      <td>NaN</td>\n",
       "      <td>8677.0</td>\n",
       "      <td>9442.0</td>\n",
       "      <td>NaN</td>\n",
       "      <td>0.059</td>\n",
       "    </tr>\n",
       "    <tr>\n",
       "      <th>4</th>\n",
       "      <td>100724</td>\n",
       "      <td>NaN</td>\n",
       "      <td>3</td>\n",
       "      <td>4</td>\n",
       "      <td>1</td>\n",
       "      <td>5</td>\n",
       "      <td>NaN</td>\n",
       "      <td>0.9774</td>\n",
       "      <td>NaN</td>\n",
       "      <td>0.9774</td>\n",
       "      <td>11068.0</td>\n",
       "      <td>19396.0</td>\n",
       "      <td>NaN</td>\n",
       "      <td>10160.0</td>\n",
       "      <td>7754.0</td>\n",
       "      <td>NaN</td>\n",
       "      <td>0.203</td>\n",
       "    </tr>\n",
       "  </tbody>\n",
       "</table>\n",
       "</div>"
      ],
      "text/plain": [
       "   UNITID  ACCREDAGENCY  PREDDEG  HIGHDEG  CONTROL  REGION  CCBASIC  ADM_RATE  \\\n",
       "0  100654           NaN        3        4        1       5      NaN    0.8986   \n",
       "1  100663           NaN        3        4        1       5      NaN    0.9211   \n",
       "2  100690           NaN        3        4        2       5      NaN       NaN   \n",
       "3  100706           NaN        3        4        1       5      NaN    0.8087   \n",
       "4  100724           NaN        3        4        1       5      NaN    0.9774   \n",
       "\n",
       "   CCBASIC  ADM_RATE  TUITIONFEE_IN  TUITIONFEE_OUT  TUITIONFEE_PROG  TUITFTE  \\\n",
       "0      NaN    0.8986         9744.0         18354.0              NaN   7413.0   \n",
       "1      NaN    0.9211         8568.0         19704.0              NaN  13177.0   \n",
       "2      NaN       NaN         6900.0          6900.0              NaN  14273.0   \n",
       "3      NaN    0.8087        10714.0         22362.0              NaN   8677.0   \n",
       "4      NaN    0.9774        11068.0         19396.0              NaN  10160.0   \n",
       "\n",
       "   AVGFACSAL  CDR2   CDR3  \n",
       "0     7101.0   NaN  0.182  \n",
       "1    10717.0   NaN  0.057  \n",
       "2     4292.0   NaN  0.110  \n",
       "3     9442.0   NaN  0.059  \n",
       "4     7754.0   NaN  0.203  "
      ]
     },
     "execution_count": 16,
     "metadata": {},
     "output_type": "execute_result"
    }
   ],
   "source": [
    "scorecard.head()"
   ]
  },
  {
   "cell_type": "markdown",
   "metadata": {},
   "source": [
    "## Clean and format raw data"
   ]
  },
  {
   "cell_type": "code",
   "execution_count": null,
   "metadata": {},
   "outputs": [],
   "source": [
    "## code"
   ]
  },
  {
   "cell_type": "markdown",
   "metadata": {},
   "source": [
    "## Add data to SQL table"
   ]
  },
  {
   "cell_type": "code",
   "execution_count": null,
   "metadata": {},
   "outputs": [],
   "source": [
    "## code"
   ]
  }
 ],
 "metadata": {
  "kernelspec": {
   "display_name": "Python 3",
   "language": "python",
   "name": "python3"
  },
  "language_info": {
   "codemirror_mode": {
    "name": "ipython",
    "version": 3
   },
   "file_extension": ".py",
   "mimetype": "text/x-python",
   "name": "python",
   "nbconvert_exporter": "python",
   "pygments_lexer": "ipython3",
   "version": "3.11.6"
  }
 },
 "nbformat": 4,
 "nbformat_minor": 2
}
